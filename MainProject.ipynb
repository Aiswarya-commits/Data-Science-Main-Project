{
 "cells": [
  {
   "cell_type": "markdown",
   "id": "2777ff7c-6e86-4ce9-a34b-3e370832ce52",
   "metadata": {},
   "source": [
    "                                                                #INTRODUCTION\n",
    "                                                    #REAL ESTATE SALES PRICE PREDICTION \n",
    "\n",
    "\n",
    "PROBLEM STATEMENT\n",
    "\n",
    "The real estate market plays a crucial role in the economy, with property prices being influenced by numerous factors such as location, property size, amenities, and market trends. Accurately predicting real estate prices is essential for buyers, sellers, investors, and policymakers. This project aims to develop a predictive model for real estate sales prices using a comprehensive dataset of past transactions, property features, and market conditions. Various regression models will be implemented and evaluated to determine the best-performing model for price prediction.\n",
    "\n",
    "PROBLEM DESCRIPTION\n",
    "\n",
    "The dataset consists of historical real estate sales data, including property characteristics, transaction details, and geographical information. Predicting real estate prices is challenging due to the complex relationships among various factors that influence pricing. The project will explore these relationships and apply different regression techniques to build an accurate prediction model.\n",
    "\n",
    "PROJECT OBJECTIVES\n",
    "\n",
    "To develop a predictive model for real estate sales prices.\n",
    "\n",
    "To identify the key factors that significantly impact property prices.\n",
    "\n",
    "To evaluate multiple regression models and select the most accurate one.\n",
    "\n",
    "To provide insights and recommendations for buyers, sellers, and real estate professionals.\n",
    "\n",
    "DATASET CHARACTERISTICS\n",
    "\n",
    "Type: Regression\n",
    "\n",
    "Features: Multiple attributes including property size, location, number of rooms, amenities, and market conditions.\n",
    "\n",
    "Target Variable: Sale Price (in USD or local currency)\n",
    "\n",
    "Source: Public real estate transaction databases or proprietary sources\n",
    "\n",
    "This project will utilize machine learning techniques to analyze and predict real estate prices, ultimately aiding decision-making in the housing market."
   ]
  },
  {
   "cell_type": "markdown",
   "id": "11bfa580-233e-4286-a188-b15acfd3b59e",
   "metadata": {},
   "source": [
    "#DATA CLEANING AND PREPOSSESSING"
   ]
  },
  {
   "cell_type": "code",
   "execution_count": 2,
   "id": "14ddae78-a057-4f8d-a572-124ddab6b47f",
   "metadata": {},
   "outputs": [],
   "source": [
    "import warnings\n",
    "import sys\n",
    "if not sys.warnoptions:\n",
    "    warnings.simplefilter(\"ignore\")\n",
    "\n",
    "import numpy as np \n",
    "import pandas as pd\n",
    "import matplotlib.pyplot as plt\n",
    "import seaborn as sns"
   ]
  },
  {
   "cell_type": "code",
   "execution_count": 9,
   "id": "e89e1625-03c1-4a57-886d-8fc84d1a0e2d",
   "metadata": {},
   "outputs": [],
   "source": [
    "data = pd.read_csv(r\"C:\\Users\\czone\\Downloads\\Real_Estate_Sales_2001-2022_GL.csv\")\n"
   ]
  },
  {
   "cell_type": "code",
   "execution_count": 11,
   "id": "9eb0f84b-3f03-4a0b-b712-e4620544533c",
   "metadata": {},
   "outputs": [
    {
     "name": "stdout",
     "output_type": "stream",
     "text": [
      "Shape of the dataset: (1097629, 14)\n"
     ]
    },
    {
     "data": {
      "text/html": [
       "<div>\n",
       "<style scoped>\n",
       "    .dataframe tbody tr th:only-of-type {\n",
       "        vertical-align: middle;\n",
       "    }\n",
       "\n",
       "    .dataframe tbody tr th {\n",
       "        vertical-align: top;\n",
       "    }\n",
       "\n",
       "    .dataframe thead th {\n",
       "        text-align: right;\n",
       "    }\n",
       "</style>\n",
       "<table border=\"1\" class=\"dataframe\">\n",
       "  <thead>\n",
       "    <tr style=\"text-align: right;\">\n",
       "      <th></th>\n",
       "      <th>Serial Number</th>\n",
       "      <th>List Year</th>\n",
       "      <th>Date Recorded</th>\n",
       "      <th>Town</th>\n",
       "      <th>Address</th>\n",
       "      <th>Assessed Value</th>\n",
       "      <th>Sale Amount</th>\n",
       "      <th>Sales Ratio</th>\n",
       "      <th>Property Type</th>\n",
       "      <th>Residential Type</th>\n",
       "      <th>Non Use Code</th>\n",
       "      <th>Assessor Remarks</th>\n",
       "      <th>OPM remarks</th>\n",
       "      <th>Location</th>\n",
       "    </tr>\n",
       "  </thead>\n",
       "  <tbody>\n",
       "    <tr>\n",
       "      <th>0</th>\n",
       "      <td>220008</td>\n",
       "      <td>2022</td>\n",
       "      <td>01/30/2023</td>\n",
       "      <td>Andover</td>\n",
       "      <td>618 ROUTE 6</td>\n",
       "      <td>139020.0</td>\n",
       "      <td>232000.0</td>\n",
       "      <td>0.5992</td>\n",
       "      <td>Residential</td>\n",
       "      <td>Single Family</td>\n",
       "      <td>NaN</td>\n",
       "      <td>NaN</td>\n",
       "      <td>NaN</td>\n",
       "      <td>POINT (-72.343628962 41.728431984)</td>\n",
       "    </tr>\n",
       "    <tr>\n",
       "      <th>1</th>\n",
       "      <td>2020348</td>\n",
       "      <td>2020</td>\n",
       "      <td>09/13/2021</td>\n",
       "      <td>Ansonia</td>\n",
       "      <td>230 WAKELEE AVE</td>\n",
       "      <td>150500.0</td>\n",
       "      <td>325000.0</td>\n",
       "      <td>0.4630</td>\n",
       "      <td>Commercial</td>\n",
       "      <td>NaN</td>\n",
       "      <td>NaN</td>\n",
       "      <td>NaN</td>\n",
       "      <td>NaN</td>\n",
       "      <td>NaN</td>\n",
       "    </tr>\n",
       "    <tr>\n",
       "      <th>2</th>\n",
       "      <td>20002</td>\n",
       "      <td>2020</td>\n",
       "      <td>10/02/2020</td>\n",
       "      <td>Ashford</td>\n",
       "      <td>390 TURNPIKE RD</td>\n",
       "      <td>253000.0</td>\n",
       "      <td>430000.0</td>\n",
       "      <td>0.5883</td>\n",
       "      <td>Residential</td>\n",
       "      <td>Single Family</td>\n",
       "      <td>NaN</td>\n",
       "      <td>NaN</td>\n",
       "      <td>NaN</td>\n",
       "      <td>NaN</td>\n",
       "    </tr>\n",
       "    <tr>\n",
       "      <th>3</th>\n",
       "      <td>210317</td>\n",
       "      <td>2021</td>\n",
       "      <td>07/05/2022</td>\n",
       "      <td>Avon</td>\n",
       "      <td>53 COTSWOLD WAY</td>\n",
       "      <td>329730.0</td>\n",
       "      <td>805000.0</td>\n",
       "      <td>0.4096</td>\n",
       "      <td>Residential</td>\n",
       "      <td>Single Family</td>\n",
       "      <td>NaN</td>\n",
       "      <td>NaN</td>\n",
       "      <td>NaN</td>\n",
       "      <td>POINT (-72.846365959 41.781677018)</td>\n",
       "    </tr>\n",
       "    <tr>\n",
       "      <th>4</th>\n",
       "      <td>200212</td>\n",
       "      <td>2020</td>\n",
       "      <td>03/09/2021</td>\n",
       "      <td>Avon</td>\n",
       "      <td>5 CHESTNUT DRIVE</td>\n",
       "      <td>130400.0</td>\n",
       "      <td>179900.0</td>\n",
       "      <td>0.7248</td>\n",
       "      <td>Residential</td>\n",
       "      <td>Condo</td>\n",
       "      <td>NaN</td>\n",
       "      <td>NaN</td>\n",
       "      <td>NaN</td>\n",
       "      <td>NaN</td>\n",
       "    </tr>\n",
       "  </tbody>\n",
       "</table>\n",
       "</div>"
      ],
      "text/plain": [
       "   Serial Number  List Year Date Recorded     Town           Address  \\\n",
       "0         220008       2022    01/30/2023  Andover       618 ROUTE 6   \n",
       "1        2020348       2020    09/13/2021  Ansonia   230 WAKELEE AVE   \n",
       "2          20002       2020    10/02/2020  Ashford   390 TURNPIKE RD   \n",
       "3         210317       2021    07/05/2022     Avon   53 COTSWOLD WAY   \n",
       "4         200212       2020    03/09/2021     Avon  5 CHESTNUT DRIVE   \n",
       "\n",
       "   Assessed Value  Sale Amount  Sales Ratio Property Type Residential Type  \\\n",
       "0        139020.0     232000.0       0.5992   Residential    Single Family   \n",
       "1        150500.0     325000.0       0.4630    Commercial              NaN   \n",
       "2        253000.0     430000.0       0.5883   Residential    Single Family   \n",
       "3        329730.0     805000.0       0.4096   Residential    Single Family   \n",
       "4        130400.0     179900.0       0.7248   Residential            Condo   \n",
       "\n",
       "  Non Use Code Assessor Remarks OPM remarks  \\\n",
       "0          NaN              NaN         NaN   \n",
       "1          NaN              NaN         NaN   \n",
       "2          NaN              NaN         NaN   \n",
       "3          NaN              NaN         NaN   \n",
       "4          NaN              NaN         NaN   \n",
       "\n",
       "                             Location  \n",
       "0  POINT (-72.343628962 41.728431984)  \n",
       "1                                 NaN  \n",
       "2                                 NaN  \n",
       "3  POINT (-72.846365959 41.781677018)  \n",
       "4                                 NaN  "
      ]
     },
     "execution_count": 11,
     "metadata": {},
     "output_type": "execute_result"
    }
   ],
   "source": [
    "print(\"Shape of the dataset:\", data.shape)\n",
    "data.head()"
   ]
  },
  {
   "cell_type": "code",
   "execution_count": 13,
   "id": "c7ed1eec-5d96-4d71-9d0a-4b6dd2426f80",
   "metadata": {},
   "outputs": [
    {
     "name": "stdout",
     "output_type": "stream",
     "text": [
      "Feature names and their datatypes:\n",
      "<class 'pandas.core.frame.DataFrame'>\n",
      "RangeIndex: 1097629 entries, 0 to 1097628\n",
      "Data columns (total 14 columns):\n",
      " #   Column            Non-Null Count    Dtype  \n",
      "---  ------            --------------    -----  \n",
      " 0   Serial Number     1097629 non-null  int64  \n",
      " 1   List Year         1097629 non-null  int64  \n",
      " 2   Date Recorded     1097627 non-null  object \n",
      " 3   Town              1097629 non-null  object \n",
      " 4   Address           1097578 non-null  object \n",
      " 5   Assessed Value    1097629 non-null  float64\n",
      " 6   Sale Amount       1097629 non-null  float64\n",
      " 7   Sales Ratio       1097629 non-null  float64\n",
      " 8   Property Type     715183 non-null   object \n",
      " 9   Residential Type  699240 non-null   object \n",
      " 10  Non Use Code      313451 non-null   object \n",
      " 11  Assessor Remarks  171228 non-null   object \n",
      " 12  OPM remarks       13031 non-null    object \n",
      " 13  Location          298111 non-null   object \n",
      "dtypes: float64(3), int64(2), object(9)\n",
      "memory usage: 117.2+ MB\n"
     ]
    }
   ],
   "source": [
    "print(\"Feature names and their datatypes:\")\n",
    "data.info()"
   ]
  },
  {
   "cell_type": "code",
   "execution_count": 15,
   "id": "2129e0b5-d1a4-4460-bc28-46bff77942f3",
   "metadata": {},
   "outputs": [
    {
     "name": "stdout",
     "output_type": "stream",
     "text": [
      "Missing values per column:\n",
      "Serial Number             0\n",
      "List Year                 0\n",
      "Date Recorded             2\n",
      "Town                      0\n",
      "Address                  51\n",
      "Assessed Value            0\n",
      "Sale Amount               0\n",
      "Sales Ratio               0\n",
      "Property Type        382446\n",
      "Residential Type     398389\n",
      "Non Use Code         784178\n",
      "Assessor Remarks     926401\n",
      "OPM remarks         1084598\n",
      "Location             799518\n",
      "dtype: int64\n"
     ]
    }
   ],
   "source": [
    "print(\"Missing values per column:\")\n",
    "print(data.isnull().sum())"
   ]
  },
  {
   "cell_type": "code",
   "execution_count": 17,
   "id": "625ef9e8-90a9-419a-880a-b9225dda2cbb",
   "metadata": {},
   "outputs": [],
   "source": [
    "data_cleaned = data.dropna()"
   ]
  },
  {
   "cell_type": "code",
   "execution_count": 19,
   "id": "5e57ca78-6cc6-4e0a-be5b-06bab64dbdfc",
   "metadata": {},
   "outputs": [],
   "source": [
    "data_cleaned = data_cleaned.drop_duplicates()"
   ]
  },
  {
   "cell_type": "code",
   "execution_count": 27,
   "id": "6b6c1406-4b10-4ba1-8d2f-399546d72d10",
   "metadata": {},
   "outputs": [
    {
     "name": "stdout",
     "output_type": "stream",
     "text": [
      "Index(['Serial Number', 'List Year', 'Date Recorded', 'Town', 'Address',\n",
      "       'Assessed Value', 'Sale Amount', 'Sales Ratio', 'Property Type',\n",
      "       'Residential Type', 'Non Use Code', 'Assessor Remarks', 'OPM remarks',\n",
      "       'Location'],\n",
      "      dtype='object')\n"
     ]
    }
   ],
   "source": [
    "print(data_cleaned.columns)\n"
   ]
  },
  {
   "cell_type": "code",
   "execution_count": 29,
   "id": "bce3604d-c59b-4982-93eb-5afff9519e88",
   "metadata": {},
   "outputs": [],
   "source": [
    "data_cleaned['Date Recorded'] = pd.to_datetime(data_cleaned['Date Recorded'], errors='coerce')"
   ]
  },
  {
   "cell_type": "code",
   "execution_count": 31,
   "id": "2e70087f-20d4-47b3-9c5d-2e9ec5e690dd",
   "metadata": {},
   "outputs": [],
   "source": [
    "categorical_columns = ['PropertyType', 'Town', 'ResidentialType']  # Example columns\n",
    "for col in categorical_columns:\n",
    "    if col in data_cleaned.columns:\n",
    "        data_cleaned[col] = data_cleaned[col].astype('category')"
   ]
  },
  {
   "cell_type": "code",
   "execution_count": 33,
   "id": "19f2e8ec-a37c-4400-b1ef-d70c1d2dce61",
   "metadata": {},
   "outputs": [
    {
     "name": "stdout",
     "output_type": "stream",
     "text": [
      "Summary Statistics:\n",
      "       Serial Number    List Year                  Date Recorded  \\\n",
      "count   5.600000e+02   560.000000                            560   \n",
      "mean    1.891504e+06  2020.185714  2021-06-18 01:09:25.714285568   \n",
      "min     2.214000e+03  2016.000000            2017-01-25 00:00:00   \n",
      "25%     1.804415e+05  2019.000000            2020-03-31 12:00:00   \n",
      "50%     2.101240e+05  2021.000000            2021-11-20 12:00:00   \n",
      "75%     2.202935e+05  2022.000000            2022-12-14 00:00:00   \n",
      "max     2.020002e+08  2022.000000            2023-09-29 00:00:00   \n",
      "std     1.691041e+07     1.787797                            NaN   \n",
      "\n",
      "       Assessed Value   Sale Amount  Sales Ratio  \n",
      "count    5.600000e+02  5.600000e+02   560.000000  \n",
      "mean     1.701261e+05  9.091623e+05     0.838064  \n",
      "min      0.000000e+00  4.500000e+03     0.000000  \n",
      "25%      9.025750e+04  1.100000e+05     0.413374  \n",
      "50%      1.416000e+05  2.140000e+05     0.625957  \n",
      "75%      1.992075e+05  3.752500e+05     1.020047  \n",
      "max      2.083410e+06  3.187900e+08    20.020000  \n",
      "std      1.669984e+05  1.346897e+07     1.091531  \n"
     ]
    }
   ],
   "source": [
    "print(\"Summary Statistics:\")\n",
    "print(data_cleaned.describe())"
   ]
  },
  {
   "cell_type": "code",
   "execution_count": 35,
   "id": "295711cf-14ad-40fb-9b26-a328ec14f7de",
   "metadata": {},
   "outputs": [
    {
     "name": "stdout",
     "output_type": "stream",
     "text": [
      "Data cleaning completed. Cleaned dataset saved as real_estate_sales_cleaned.csv\n"
     ]
    }
   ],
   "source": [
    "data_cleaned.to_csv(\"real_estate_sales_cleaned.csv\", index=False)\n",
    "\n",
    "print(\"Data cleaning completed. Cleaned dataset saved as real_estate_sales_cleaned.csv\")"
   ]
  },
  {
   "cell_type": "code",
   "execution_count": 37,
   "id": "fdac89a5-70bb-4604-bed7-a1e76de86ad0",
   "metadata": {},
   "outputs": [
    {
     "name": "stdout",
     "output_type": "stream",
     "text": [
      "Duplicates in the dataset are:\n"
     ]
    },
    {
     "data": {
      "text/plain": [
       "np.int64(0)"
      ]
     },
     "execution_count": 37,
     "metadata": {},
     "output_type": "execute_result"
    }
   ],
   "source": [
    "print(\"Duplicates in the dataset are:\")\n",
    "data.duplicated().sum()"
   ]
  },
  {
   "cell_type": "code",
   "execution_count": null,
   "id": "6c44bcd8-f7bd-4012-86ea-de0b72cc7d51",
   "metadata": {},
   "outputs": [],
   "source": []
  }
 ],
 "metadata": {
  "kernelspec": {
   "display_name": "Python 3 (ipykernel)",
   "language": "python",
   "name": "python3"
  },
  "language_info": {
   "codemirror_mode": {
    "name": "ipython",
    "version": 3
   },
   "file_extension": ".py",
   "mimetype": "text/x-python",
   "name": "python",
   "nbconvert_exporter": "python",
   "pygments_lexer": "ipython3",
   "version": "3.12.4"
  }
 },
 "nbformat": 4,
 "nbformat_minor": 5
}
